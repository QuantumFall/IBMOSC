{
 "cells": [
  {
   "cell_type": "code",
   "execution_count": 96,
   "id": "2c580371-93de-4b74-9aa5-51c560dca360",
   "metadata": {
    "tags": []
   },
   "outputs": [
    {
     "name": "stdout",
     "output_type": "stream",
     "text": [
      "Cell Evaluated\n"
     ]
    }
   ],
   "source": [
    "%reset -f\n",
    "\n",
    "import numpy as np\n",
    "import copy\n",
    "import time\n",
    "\n",
    "from qiskit.opflow.primitive_ops import PauliSumOp\n",
    "from qiskit.quantum_info import SparsePauliOp\n",
    "\n",
    "from qiskit import QuantumCircuit, transpile\n",
    "from qiskit.circuit import ParameterVector\n",
    "import rustworkx as rx\n",
    "\n",
    "from qiskit_ibm_runtime import Estimator as RuntimeEstimator, QiskitRuntimeService, Options, Session\n",
    "from qiskit_nature.problems.second_quantization.lattice import Lattice\n",
    "from qiskit_nature.mappers.second_quantization import LogarithmicMapper\n",
    "from heisenberg_model import HeisenbergModel\n",
    "\n",
    "import matplotlib.pyplot as plt    \n",
    "\n",
    "print(\"Cell Evaluated\")\n"
   ]
  },
  {
   "cell_type": "code",
   "execution_count": 97,
   "id": "39f7f89d-70c4-4e0b-9dcc-611017b07a6e",
   "metadata": {
    "tags": []
   },
   "outputs": [
    {
     "name": "stdout",
     "output_type": "stream",
     "text": [
      "++++++++++++++++++++++++++++++++++++++++++++++++++++++++++++++++\n",
      "              Spin Preserving CRY Ansatz (Ring Topo)              \n",
      "++++++++++++++++++++++++++++++++++++++++++++++++++++++++++++++++\n",
      "Gate count: 107\n",
      "Depth: 17\n"
     ]
    }
   ],
   "source": [
    "def cryansatz(nqubits, layers, init_bitstring): # Hardware efficient ansatz that is spin preserving.\n",
    "    \n",
    "    # Separate physical and \"virtual\" qubits (i.e. qubits used) \n",
    "    # to prevent errors about how the number of qubits don't match.\n",
    "    # However, gates will only act on the number of used qubits set by the \"nqubits\" argument.\n",
    "    \n",
    "    # From here, we will use the \"initial_layout\" argument during transpile to map the extra qubits\n",
    "    # in the circuit to the physical ones we want to avoid (i.e. 0,6,9,15)\n",
    "    physical_qubits = 16\n",
    "    \n",
    "    assert nqubits%2 == 0\n",
    "    assert nqubits <= physical_qubits\n",
    "    \n",
    "    print(f\"{'':+^64}\\n\",\n",
    "      f\"{' Spin Preserving CRY Ansatz (Ring Topo) ':^64}\",\n",
    "      f\"\\n{'':+^64}\")\n",
    "    \n",
    "    my_circ = QuantumCircuit(physical_qubits)\n",
    "    nparams = int((nqubits/2) * layers)\n",
    "    \n",
    "    params = ParameterVector('θ', nparams)\n",
    "    params_idx = 0\n",
    "    \n",
    "    for x_ in range(len(init_bitstring)):\n",
    "        if init_bitstring[x_] == \"1\":\n",
    "            my_circ.x(x_)\n",
    "            \n",
    "    my_circ.barrier()\n",
    "    \n",
    "    for l_ in range(layers):\n",
    "        if l_%2 ==0:\n",
    "            for q2_ in range(0, nqubits,2):\n",
    "                if q2_+1 == nqubits:\n",
    "                    qb1 = q2_\n",
    "                    qb2 = 0\n",
    "                else:\n",
    "                    qb1 = q2_\n",
    "                    qb2 = q2_ + 1\n",
    "                    \n",
    "                my_circ.cx(qb1, qb2)\n",
    "                my_circ.cry(params[params_idx], qb2, qb1)\n",
    "                params_idx += 1\n",
    "                my_circ.cx(qb1, qb2)\n",
    "                my_circ.rzz(np.pi/2, qb2, qb1)\n",
    "        else:\n",
    "            for q2_ in range(1, nqubits,2):\n",
    "                if q2_+1 == nqubits:\n",
    "                    qb1 = q2_\n",
    "                    qb2 = 0\n",
    "                else:\n",
    "                    qb1 = q2_\n",
    "                    qb2 = q2_ + 1\n",
    "                    \n",
    "                my_circ.cx(qb1, qb2)\n",
    "                my_circ.cry(params[params_idx], qb2, qb1)\n",
    "                params_idx += 1\n",
    "                my_circ.cx(qb1, qb2)\n",
    "                my_circ.rzz(np.pi/2, qb2, qb1)\n",
    "\n",
    "                \n",
    "        my_circ.barrier()\n",
    "                \n",
    "    return my_circ\n",
    "\n",
    "\n",
    "def gatecount(circuit):\n",
    "    return len([circuit.data[gate][0].name for gate in range(len(circuit.data))])\n",
    "\n",
    "\n",
    "# Guadalupe coupling_map\n",
    "coupling_map = [[12, 15], [15, 12], [12, 10], [10, 12], \n",
    "                [7, 4], [4, 7], [8, 9], [9, 8], \n",
    "                [2, 3], [3, 2], [5, 3], [3, 5], \n",
    "                [12, 13], [13, 12], [0, 1], [1, 0], \n",
    "                [11, 8], [8, 11], [7, 6], [6, 7], \n",
    "                [11, 14], [14, 11], [5, 8], [8, 5], \n",
    "                [10, 7], [7, 10], [4, 1], [1, 4], \n",
    "                [2, 1], [1, 2], [13, 14], [14, 13]]\n",
    "\n",
    "initial_layout = [1,2,3,5,8,11,14,13,12,10,7,4,0,6,9,15]\n",
    "\n",
    "# Last 4 qubits are not used. These unused qubits will be mapped to 0, 6, 9 15 on the device\n",
    "# using initial_layout argument during the transpile stage.\n",
    "drawansatz = cryansatz(12, 4, '101010101010')\n",
    "\n",
    "print(\"Gate count:\", gatecount(drawansatz))\n",
    "print(\"Depth:\", drawansatz.depth())\n",
    "\n",
    "# drawansatz.draw(fold=5000)\n",
    "\n"
   ]
  },
  {
   "cell_type": "markdown",
   "id": "c3e6a36c-7196-47cf-913c-d6175de2ddd9",
   "metadata": {},
   "source": [
    "# Kagome Lattice Hamiltonian"
   ]
  },
  {
   "cell_type": "code",
   "execution_count": 98,
   "id": "830754de-c2a8-4cfe-a9ab-64534b619e90",
   "metadata": {
    "tags": []
   },
   "outputs": [
    {
     "name": "stdout",
     "output_type": "stream",
     "text": [
      "Cell Evaluated\n"
     ]
    }
   ],
   "source": [
    "# Kagome unit cell\n",
    "num_qubits = 16\n",
    "# Edge weight\n",
    "t = 1.0\n",
    "\n",
    "# Generate graph of kagome unit cell\n",
    "# Start by defining all the edges\n",
    "graph_16 = rx.PyGraph(multigraph=False)\n",
    "graph_16.add_nodes_from(range(num_qubits))\n",
    "edge_list = [\n",
    "    (1, 2, t), (2, 3, t), (3, 5, t), (5, 8, t),\n",
    "    (8, 11, t), (11, 14, t), (14, 13, t), (13, 12, t),\n",
    "    (12, 10, t), (10, 7, t), (7, 4, t), (4, 1, t),\n",
    "    (4, 2, t), (2, 5, t), (5, 11, t), (11, 13, t),\n",
    "    (13, 10, t), (10, 4, t)]\n",
    "# Generate graph from the list of edges\n",
    "graph_16.add_edges_from(edge_list)\n",
    "\n",
    "# Make a Lattice from graph\n",
    "kagome_unit_cell_16 = Lattice(graph_16)\n",
    "# Build Hamiltonian from graph edges\n",
    "heis_16 = HeisenbergModel.uniform_parameters(\n",
    "    lattice=kagome_unit_cell_16,\n",
    "    uniform_interaction=t,\n",
    "    uniform_onsite_potential=0.0,  # No singe site external field\n",
    ")\n",
    "\n",
    "# Map from SpinOp to qubits just as before.\n",
    "log_mapper = LogarithmicMapper()\n",
    "ham_16 = 4 * log_mapper.map(heis_16.second_q_ops().simplify())\n",
    "# Print Hamiltonian to check it's what we expect:\n",
    "# 18 ZZ, 18 YY, and 18 XX terms over 16 qubits instead of over 12 qubits\n",
    "\n",
    "print(\"Cell Evaluated\")\n",
    "\n"
   ]
  },
  {
   "cell_type": "markdown",
   "id": "55900619-5196-474c-9ccd-55864aa990b6",
   "metadata": {},
   "source": [
    "# Plotting some pre-saved runs\n",
    "\n",
    "Due to queue related issues, these runs were obtained using 1000 shots on a simulator instead. We tried using Qiskit's Aer simulator to run locally and with runtime, and we tried using fakeguadalupe backends. Unfortunately, both of these were too slow. Using runtime for VQE is difficult on a laptop as it required near constant connection to the internet.\n",
    "\n",
    "However, our results are unlikely to be compromised even if the optimization was carried out on a real backend.\n",
    "\n",
    " - Using a relatively low depth excitation preserving ansatz means that only a small subspace of the cost function landscape needs to be explored. Combined with rotosolve, converging to the minimum within the noisy landscape should be quick, allowing for multple runs to be tried. \n",
    "\n",
    " - Noise in the device may cause the optimization landscape to change. With sufficient runs converging with different sets of parameter values, these differences in the landscape should also be reflected when measuring multiple runs $\\langle \\hat{\\mathcal{G}}_1 \\rangle$ and $\\langle \\hat{\\mathcal{G}}_2 \\rangle$ on the hardware, and should be captured within the scale factor during averaging. \n",
    " \n",
    "\n",
    "Inside load_saved_dat is a list of runs. Each run is a dictionary with the following keys:\n",
    " - `seed`: Starting seed for optimizer, between -π and π. \n",
    " - `opt params`: Optimal parameters for our circuit\n",
    " - `cflist`: Cost function values after each optimizer iteration\n",
    " - `paramlist`: Theta values after each optimizer iteration\n"
   ]
  },
  {
   "cell_type": "code",
   "execution_count": 99,
   "id": "a822464c-39aa-4d9c-b4c8-f76dbd21354c",
   "metadata": {
    "tags": []
   },
   "outputs": [
    {
     "name": "stdout",
     "output_type": "stream",
     "text": [
      "Number of saved runs: 15\n"
     ]
    },
    {
     "data": {
      "text/plain": [
       "Text(0.5, 1.0, 'Plot of multiple runs achieving ground state')"
      ]
     },
     "execution_count": 99,
     "metadata": {},
     "output_type": "execute_result"
    },
    {
     "data": {
      "image/png": "[encoded data removed]",
      "text/plain": [
       "<Figure size 640x480 with 1 Axes>"
      ]
     },
     "metadata": {},
     "output_type": "display_data"
    }
   ],
   "source": [
    "\n",
    "\n",
    "load_saved_dat = np.load(\"cryansatz-16l4-shots1000-Rotosolvedat.npy\", allow_pickle = True)\n",
    "\n",
    "print(f\"Number of saved runs: {len(load_saved_dat)}\")\n",
    "n_plots = len(load_saved_dat)\n",
    "\n",
    "\n",
    "for _idx in range(len(load_saved_dat)):\n",
    "    plt.plot(load_saved_dat[_idx]['cflist'])\n",
    "\n",
    "xplotrange = max([len(load_saved_dat[_idx]['cflist']) for _idx in range(n_plots)])\n",
    "\n",
    "\n",
    "plt.ylim(-20,0)\n",
    "plt.xlim(0,20)\n",
    "plt.yticks([x for x in range(-20,0,2)])\n",
    "plt.plot([-18 for x in range(-1,xplotrange+1)], linestyle = 'dashed', color='black')\n",
    "plt.xlabel(\"Optimizer iterations\")\n",
    "plt.ylabel(\"Energy\")\n",
    "plt.title(\"Plot of multiple runs achieving ground state\")\n",
    "\n",
    "\n"
   ]
  },
  {
   "cell_type": "markdown",
   "id": "0917940d-cb2f-40b1-a147-70c5141ac777",
   "metadata": {},
   "source": [
    "### Loading final parameters into ibmq_guadalupe with Runtime's error mitigation and error suppression. \n",
    "\n"
   ]
  },
  {
   "cell_type": "code",
   "execution_count": 100,
   "id": "47498d14-d110-456b-b9aa-6d9204dd5268",
   "metadata": {
    "tags": []
   },
   "outputs": [
    {
     "name": "stdout",
     "output_type": "stream",
     "text": [
      "Loading runtime service.... Est wait: 10s\n",
      "Service loaded. Time taken: 15.21s\n"
     ]
    }
   ],
   "source": [
    "print(\"Loading runtime service.... Est wait: 10s\")\n",
    "ttg1 =time.time()\n",
    "service = QiskitRuntimeService(channel=\"ibm_quantum\",\n",
    "                               instance='ibm-q-community/ibmquantumawards/open-science-22'\n",
    "                              ) \n",
    "\n",
    "runtime_backend = 'ibmq_guadalupe'\n",
    "print(\"Service loaded. Time taken: %.2fs\" %(time.time() - ttg1))\n",
    "\n"
   ]
  },
  {
   "cell_type": "markdown",
   "id": "45c28414-8dc2-4a94-867b-90724f1a55a3",
   "metadata": {},
   "source": [
    "It is important to fix the options below during the session, as the same options need to be used when using `ibmq_guadalupe` to find the scale factor. \n",
    "\n",
    "Once again, we leverage Runtime's ability to send multiple jobs at once to be queued. The first loop is used to send the jobs to the backend. Once all the jobs has been sent, a second loop queries the results and saves them to a list. This saves some overhead as subsequent jobs can be sent without having to wait for earlier ones to finish. "
   ]
  },
  {
   "cell_type": "code",
   "execution_count": 102,
   "id": "fd605f56-3227-477e-806e-a061c4c642d3",
   "metadata": {
    "scrolled": true,
    "tags": []
   },
   "outputs": [
    {
     "name": "stdout",
     "output_type": "stream",
     "text": [
      "Preparing runtime session....\n",
      "++++++++++++++++++++++++++++++++++++++++++++++++++++++++++++++++\n",
      "              Spin Preserving CRY Ansatz (Ring Topo)              \n",
      "++++++++++++++++++++++++++++++++++++++++++++++++++++++++++++++++\n",
      "Depth: 73\n",
      "Gate count: 539\n",
      "Nonlocal gate count: 96\n",
      "Running circuits.... \n",
      ">>> Stpt: 21386, Job ID: cgsq2ab7iuhj2v489j00, Job Status: JobStatus.QUEUED\n",
      ">>> Stpt: 19140, Job ID: cgsq2atc26uins2mofh0, Job Status: JobStatus.QUEUED\n",
      ">>> Stpt: 25906, Job ID: cgsq2b5evgbv2i5soo60, Job Status: JobStatus.QUEUED\n",
      ">>> Stpt: 33865, Job ID: cgsq2b82tle0vokd602g, Job Status: JobStatus.QUEUED\n",
      ">>> Stpt: 10259, Job ID: cgsq2bj7iuhj2v489l70, Job Status: JobStatus.QUEUED\n",
      ">>> Stpt: 21683, Job ID: cgsq2c5evgbv2i5soqg0, Job Status: JobStatus.QUEUED\n",
      ">>> Stpt: 15708, Job ID: cgsq2c82tle0vokd62a0, Job Status: JobStatus.QUEUED\n",
      ">>> Stpt: 11744, Job ID: cgsq2cg2tle0vokd62s0, Job Status: JobStatus.QUEUED\n",
      ">>> Stpt: 16811, Job ID: cgsq2ctevgbv2i5sosp0, Job Status: JobStatus.QUEUED\n",
      ">>> Stpt: 19705, Job ID: cgsq2d82tle0vokd64e0, Job Status: JobStatus.QUEUED\n",
      ">>> Stpt: 39947, Job ID: cgsq2dlevgbv2i5souh0, Job Status: JobStatus.QUEUED\n",
      ">>> Stpt: 31890, Job ID: cgsq2dtc26uins2moivg, Job Status: JobStatus.QUEUED\n",
      ">>> Stpt: 19648, Job ID: cgsq2etc26uins2mok10, Job Status: JobStatus.QUEUED\n",
      ">>> Stpt: 56067, Job ID: cgsq2f5evgbv2i5sp250, Job Status: JobStatus.QUEUED\n",
      ">>> Stpt: 13539, Job ID: cgsq2flevgbv2i5sp2ug, Job Status: JobStatus.QUEUED\n",
      "\n",
      "All jobs sent! Session ID: cgsq2ab7iuhj2v489j00. Awaiting results....\n",
      "\n",
      "Time taken: 22.499s\n"
     ]
    }
   ],
   "source": [
    "options = Options()                   # https://qiskit.org/documentation/partners/qiskit_ibm_runtime/stubs/qiskit_ibm_runtime.options.Options.html\n",
    "options.optimization_level = 3        # 3 is Default, https://qiskit.org/documentation/partners/qiskit_ibm_runtime/how_to/error-suppression.html\n",
    "options.resilience_level = 2          # 0: none, 1: readout errors (TREX), 2: ZNE, 3: PEC\n",
    "options.max_execution_time = None\n",
    "options.execution.shots = 100000      # 4000 is default\n",
    "options.execution.init_qubits = True  # Reset Qubits after each shot\n",
    "options.transpilation.skip_transpilation = True # Don't transpile using qiskit_ibm_runtime.Options... EVER\n",
    "\n",
    "print(\"Preparing runtime session....\")\n",
    "klfado = time.time()\n",
    "\n",
    "with Session(service=service, backend=runtime_backend) as session:\n",
    "    \n",
    "    rtestimator = RuntimeEstimator(session=session, options=options)\n",
    "    saved_circ = cryansatz(12, 4, '101010101010')\n",
    "    saved_circ = transpile(saved_circ, \n",
    "                       initial_layout=[1,2,3,5,8,11,14,13,12,10,7,4,0,6,9,15],\n",
    "                       optimization_level=3,\n",
    "                       basis_gates=['cx', 'id', 'rz', 'sx', 'x'],\n",
    "                       coupling_map = coupling_map,\n",
    "                       seed_transpiler = 16\n",
    "                      )\n",
    "    \n",
    " \n",
    "    print(\"Depth:\", saved_circ.depth())\n",
    "    print(\"Gate count:\", sum(saved_circ.count_ops().values()))\n",
    "    print(\"Nonlocal gate count:\", saved_circ.num_nonlocal_gates())\n",
    "\n",
    "    \n",
    "    # Printing the energy from these runs. Won't get exactly -18 due to statistical error from noisy measurements\n",
    "    joblist = []\n",
    "    job_id_list = []\n",
    "    seedlist = []\n",
    "    \n",
    "    print(\"Running circuits.... \")\n",
    "    for stpt in load_saved_dat: \n",
    "\n",
    "        xx = stpt['opt params']\n",
    "        opt_job = rtestimator.run([saved_circ], [ham_16], [xx])\n",
    "        joblist.append(opt_job)\n",
    "        job_id_list.append(opt_job.job_id())\n",
    "        seedlist.append(stpt['seed'])\n",
    "        print(f\">>> Stpt: {stpt['seed']}, Job ID: {opt_job.job_id()}, Job Status: {opt_job.status()}\")\n",
    "    \n",
    "    \n",
    "    session_id = session.session_id\n",
    "    print()\n",
    "    print(f\"All jobs sent! Session ID: {session_id}. Awaiting results....\")\n",
    "    print()\n",
    "    \n",
    "    session.close()\n",
    "        \n",
    "\n",
    "print(f\"Time taken: {(time.time() - klfado):<5.3f}s\")\n",
    "\n",
    "\n"
   ]
  },
  {
   "cell_type": "code",
   "execution_count": null,
   "id": "b8a32163-5f80-4527-b11e-ac9911e9fa76",
   "metadata": {
    "tags": []
   },
   "outputs": [],
   "source": [
    "print(\"Loading job services...\")\n",
    "\n",
    "# my_session_id = 'cgsq2ab7iuhj2v489j00'                          # If we want to load existing session-ids\n",
    "\n",
    "my_session_id = session_id\n",
    "my_job_list = service.jobs(limit=None, session_id=my_session_id ,descending=True)\n",
    "\n",
    "njobs = len(my_job_list)\n",
    "seedlist = [stpt['seed'] for stpt in load_saved_dat]\n",
    "\n",
    "print(\"Retrieving job results...\")\n",
    "tkfg1 = time.time()\n",
    "\n",
    "job_id_list = []\n",
    "noisy_sim_with_mitig = []     \n",
    "for idx in range(njobs):\n",
    "    \n",
    "    # Print status first in case job is not ready to pull the result.\n",
    "    print(f\"Job ID: {my_job_list[idx].job_id()}, Status: {my_job_list[idx].status()},\")\n",
    "    \n",
    "    job_result = my_job_list[idx].result().values[0]\n",
    "    noisy_sim_with_mitig.append(job_result)\n",
    "    job_id_list.append(my_job_list[idx].job_id())\n",
    "\n",
    "\n",
    "print(f\">>> Exp values (backend): {noisy_sim_with_mitig}, Time taken: {(time.time() - tkfg1):<5.3}s\")"
   ]
  },
  {
   "cell_type": "code",
   "execution_count": 33,
   "id": "47454c92-0eea-4f27-9f71-5d4708bc3461",
   "metadata": {
    "tags": []
   },
   "outputs": [
    {
     "name": "stdout",
     "output_type": "stream",
     "text": [
      "Data saved\n"
     ]
    }
   ],
   "source": [
    "savedict = dict({})\n",
    "savedict[\"shots\"] = options.execution.shots\n",
    "savedict[\"hbknd\"] = noisy_sim_with_mitig\n",
    "savedict[\"sessid\"] = my_session_id\n",
    "savedict[\"jobid\"] = job_id_list\n",
    "savedict[\"stptlist\"] = seedlist\n",
    "\n",
    "saved_filename = \"KagomeExpvalData-Guadalupe-\"+str(options.execution.shots)+\".npy\"\n",
    "np.save(saved_filename,savedict)\n",
    "print(\"Data saved\")\n",
    "\n"
   ]
  },
  {
   "cell_type": "markdown",
   "id": "f2cb370e-a12b-4478-a2c6-068c903b36e1",
   "metadata": {},
   "source": [
    "# Loading the saved files...\n",
    "\n",
    "Here, we load the saved files from the results after excuting on the `ibmq_guadalupe` backend, which includes our data for the scale factor $\\mathcal{\\vec{f}} = \\{ {\\mathcal{f}_1, ... , \\mathcal{f}_I} \\}$ and our measured expectation values $\\{ \\langle \\hat{H}_{\\textrm{kagome}}  \\rangle _1 , ..., \\langle \\hat{H}_{\\textrm{kagome}}  \\rangle _J\\}$.\n",
    "\n",
    "\n",
    "What we want is to obtain\n",
    "\n",
    "\\begin{align*}\n",
    "E_{\\textrm{kagome}}^{ij} = \\mathcal{f}_i \\langle \\hat{H}_{\\textrm{kagome}}  \\rangle_j\n",
    "\\end{align*}\n",
    "\n"
   ]
  },
  {
   "cell_type": "code",
   "execution_count": 94,
   "id": "6a856092-8eaa-4bb5-bf97-0801ef67a0fc",
   "metadata": {},
   "outputs": [],
   "source": [
    "expvaldat = np.load(saved_filename, allow_pickle=True).item()\n",
    "sfdat = np.load(\"ScaleFactorData-Guadalupe-\"+str(options.execution.shots)+\".npy\", allow_pickle=True).item()\n",
    "\n",
    "\n",
    "### If we want to load existing saved data\n",
    "# expvaldat = np.load(\"KagomeExpvalData-Noisy-100000.npy\", allow_pickle=True).item()\n",
    "# sfdat = np.load(\"scalefactordata-Noisy-100000.npy\", allow_pickle=True).item()\n"
   ]
  },
  {
   "cell_type": "code",
   "execution_count": 95,
   "id": "1ba7b30e-f55a-4057-a0e9-03e3253fd540",
   "metadata": {
    "tags": []
   },
   "outputs": [
    {
     "name": "stdout",
     "output_type": "stream",
     "text": [
      "Matrix size: (15, 15). Number of elements: 225\n",
      "Values within 1% bound: [-17.93676429 -17.88578856 -17.95637594 -18.15898126 -17.88394955\n",
      " -18.0038712  -17.82031115 -18.1570299  -18.02227558 -18.14372001\n",
      " -18.10258509 -18.12220381 -17.88634292 -17.99553076 -18.13098356\n",
      " -18.05351704 -17.8817129  -18.13978644 -18.16418877 -18.00221013\n",
      " -17.96139604 -17.9936812  -18.11493294 -18.07386328 -18.13443637\n",
      " -17.89841628 -18.05713863 -18.11963082 -18.0130608  -18.13444313\n",
      " -18.09332924 -17.83942613 -18.04071188]\n",
      "Matrix mean: -17.83198, std: 0.72370 \n",
      "<H> mean: -9.45211, std: 1.21397 \n",
      "Scale factor mean: 1.79974 , std: 0.15904 \n"
     ]
    }
   ],
   "source": [
    "\n",
    "mymat = np.outer(expvaldat['hbknd'], sfdat['meanf'])\n",
    "\n",
    "\n",
    "print(f\"Matrix size: {mymat.shape}. Number of elements: {mymat.size}\")\n",
    "print(f\"Values within 1% bound: {mymat[np.where( (-18.18<= mymat) &  (mymat<= -17.82))]}\")\n",
    "print(f\"Matrix mean: {np.mean(mymat):<8.5f}, std: {np.std(mymat):<8.5f}\")\n",
    "print(f\"<H> mean: {np.mean(expval_list):<8.5f}, std: {np.std(expval_list):<8.5f}\")\n",
    "print(f\"Scale factor mean: {np.mean(scalfac_list):<8.5f}, std: {np.std(scalfac_list):<8.5f}\")"
   ]
  },
  {
   "cell_type": "code",
   "execution_count": 91,
   "id": "a7c05309-c97b-48d2-9fb9-b66438bbc25e",
   "metadata": {
    "tags": []
   },
   "outputs": [
    {
     "data": {
      "text/plain": [
       "Text(0, 0.5, 'Population')"
      ]
     },
     "execution_count": 91,
     "metadata": {},
     "output_type": "execute_result"
    },
    {
     "data": {
      "image/png": "[encoded data removed]",
      "text/plain": [
       "<Figure size 300x300 with 1 Axes>"
      ]
     },
     "metadata": {},
     "output_type": "display_data"
    }
   ],
   "source": [
    "fig, ax = plt.subplots(dpi=100, figsize=(3,3))\n",
    "counts, bins = np.histogram(mymat.flatten())\n",
    "ax.stairs(counts, bins, color='k', linewidth=3)\n",
    "ax.axvspan(-18.18,-17.82, color='k', alpha=0.5)\n",
    "# ax.axvline(x=-17.82, color='k', linestyle='dotted')\n",
    "ax.axvline(x=-17.83198, color='r', linestyle='dotted')\n",
    "ax.set_xlabel(r'f$\\langle \\hat{H} \\rangle$')\n",
    "ax.set_ylabel('Population')"
   ]
  },
  {
   "cell_type": "code",
   "execution_count": null,
   "id": "e5bfabde-d65d-45d8-974b-a96cd6c8cc7a",
   "metadata": {},
   "outputs": [],
   "source": []
  }
 ],
 "metadata": {
  "kernelspec": {
   "display_name": "Python 3 (ipykernel)",
   "language": "python",
   "name": "python3"
  },
  "language_info": {
   "codemirror_mode": {
    "name": "ipython",
    "version": 3
   },
   "file_extension": ".py",
   "mimetype": "text/x-python",
   "name": "python",
   "nbconvert_exporter": "python",
   "pygments_lexer": "ipython3",
   "version": "3.10.6"
  }
 },
 "nbformat": 4,
 "nbformat_minor": 5
}
