{
 "cells": [
  {
   "cell_type": "code",
   "execution_count": 13,
   "id": "deb3a163-6be1-4087-ac3a-283c36aa3bd9",
   "metadata": {
    "tags": []
   },
   "outputs": [
    {
     "name": "stdout",
     "output_type": "stream",
     "text": [
      "Cell evaluated\n"
     ]
    }
   ],
   "source": [
    "%reset -f\n",
    "\n",
    "\n",
    "import numpy as np\n",
    "import qutip as qt\n",
    "import networkx as nx\n",
    "import matplotlib.pyplot as plt\n",
    "import scipy\n",
    "\n",
    "import itertools\n",
    "import copy\n",
    "import time\n",
    "import os\n",
    "\n",
    "from qiskit.opflow.primitive_ops import PauliSumOp\n",
    "from qiskit.quantum_info import SparsePauliOp\n",
    "from qiskit.circuit import ParameterVector\n",
    "\n",
    "\n",
    "from qiskit_ibm_runtime import Estimator as RuntimeEstimator, QiskitRuntimeService, Options, Session\n",
    "from qiskit import QuantumCircuit, transpile, Aer, execute\n",
    "\n",
    "\n",
    "print(\"Cell evaluated\")\n",
    "\n"
   ]
  },
  {
   "cell_type": "markdown",
   "id": "7c526341-4038-4962-b07e-6520958fbccf",
   "metadata": {},
   "source": [
    "# Scale factor\n",
    "\n",
    "Recall that for an operator $\\hat{M}$, the scale factor is given as follows:\n",
    "\n",
    "\\begin{align*}\n",
    "\\mathcal{f} = \\frac{\\langle \\hat{M} \\rangle _{\\textrm{noiseless}}}{\\langle \\hat{M} \\rangle _{\\textrm{hardware}}}\n",
    "\\end{align*}\n",
    "\n",
    "for the purposes of rescaling our measured ground state energy:\n",
    "\n",
    "\\begin{align*}\n",
    "E_g = \\mathcal{f} \\langle 0 | U^\\dagger\\left( \\theta \\right) \\hat{H} U\\left( \\theta \\right) | 0 \\rangle\n",
    "\\end{align*}\n",
    "\n",
    "Our choie of $\\hat{M}$ are the following Hamiltonians:\n",
    "\n",
    "\\begin{align*}\n",
    "\\hat{\\mathcal{G}}_1 = \\sum_{\\langle i, j \\rangle \\in \\mathcal{G}_1} \\left( X_i X_j + Y_i Y_j + Z_i Z_j \\right) \n",
    "\\text{ and } \n",
    "\\hat{\\mathcal{G}}_2 = \\sum_{\\langle i, j \\rangle \\in \\mathcal{G}_2} \\left( X_i X_j + Y_i Y_j + Z_i Z_j \\right)\n",
    "\\end{align*}\n",
    "\n",
    "where $\\mathcal{G}_1$ and $\\mathcal{G}_2$ are the two perfect matchings of `ibmq_guadalupe`'s inner ring of qubits. \n",
    "\n",
    "\n",
    "Here we have already optimized our ansatz to minimize $\\langle \\hat{\\mathcal{G}}_1 \\rangle$ and $\\langle \\hat{\\mathcal{G}}_2 \\rangle$. This notebook uses the saved parameters to find the scale factor using the `ibmq_guadalupe` backend.\n",
    "\n"
   ]
  },
  {
   "cell_type": "code",
   "execution_count": 14,
   "id": "250faecb-4aaf-45b6-94a8-471e65031a32",
   "metadata": {
    "tags": []
   },
   "outputs": [
    {
     "name": "stdout",
     "output_type": "stream",
     "text": [
      "Cell evaluated\n"
     ]
    }
   ],
   "source": [
    "def cryansatz(nqubits, layers, init_bitstring): # Hardware efficient ansatz that is spin preserving.\n",
    "    \n",
    "    # Separate physical and \"virtual\" qubits (i.e. qubits used) \n",
    "    # to prevent errors about how the number of qubits don't match.\n",
    "    # However, gates will only act on the number of used qubits set by the \"nqubits\" argument.\n",
    "    \n",
    "    # From here, we will use the \"initial_layout\" argument during transpile to map the extra qubits\n",
    "    # in the circuit to the physical ones we want to avoid (i.e. 0,6,9,15)\n",
    "    physical_qubits = 16\n",
    "    \n",
    "    assert nqubits%2 == 0\n",
    "    assert nqubits <= physical_qubits\n",
    "    \n",
    "    \n",
    "    my_circ = QuantumCircuit(physical_qubits)\n",
    "    nparams = int((nqubits/2) * layers)\n",
    "    \n",
    "    params = ParameterVector('θ', nparams)\n",
    "    params_idx = 0\n",
    "    \n",
    "    for x_ in range(len(init_bitstring)):\n",
    "        if init_bitstring[x_] == \"1\":\n",
    "            my_circ.x(x_)\n",
    "            \n",
    "    my_circ.barrier()\n",
    "    \n",
    "    for l_ in range(layers):\n",
    "        if l_%2 ==0:\n",
    "            for q2_ in range(0, nqubits,2):\n",
    "                if q2_+1 == nqubits:\n",
    "                    qb1 = q2_\n",
    "                    qb2 = 0\n",
    "                else:\n",
    "                    qb1 = q2_\n",
    "                    qb2 = q2_ + 1\n",
    "                    \n",
    "                my_circ.cx(qb1, qb2)\n",
    "                my_circ.cry(params[params_idx], qb2, qb1)\n",
    "                params_idx += 1\n",
    "                my_circ.cx(qb1, qb2)\n",
    "                my_circ.rzz(np.pi/2, qb2, qb1)\n",
    "        else:\n",
    "            for q2_ in range(1, nqubits,2):\n",
    "                if q2_+1 == nqubits:\n",
    "                    qb1 = q2_\n",
    "                    qb2 = 0\n",
    "                else:\n",
    "                    qb1 = q2_\n",
    "                    qb2 = q2_ + 1\n",
    "                    \n",
    "                my_circ.cx(qb1, qb2)\n",
    "                my_circ.cry(params[params_idx], qb2, qb1)\n",
    "                params_idx += 1\n",
    "                my_circ.cx(qb1, qb2)\n",
    "                my_circ.rzz(np.pi/2, qb2, qb1)\n",
    "\n",
    "                \n",
    "        my_circ.barrier()\n",
    "                \n",
    "    return my_circ\n",
    "\n",
    "print(\"Cell evaluated\")\n"
   ]
  },
  {
   "cell_type": "markdown",
   "id": "4415247b-977e-460f-b822-a5a2499edee8",
   "metadata": {},
   "source": [
    "# Rings and Perfect Matchings\n",
    "\n",
    "Finding $\\langle \\hat{\\mathcal{G}}_1 \\rangle$ and $\\langle \\hat{\\mathcal{G}}_2 \\rangle$ was done by optimizing over a single Hamiltonian, $\\hat{\\mathcal{G}}$. Here, we use Qiskit's transpile functionality and construct the Hamiltonians based on which perfect matching, $\\mathcal{G}_1$ or $\\mathcal{G}_2$, we want to act on.\n",
    "\n",
    "`guadalupe_ring_1` and `guadalupe_ring_2` are the edges for the perfect matching graphs $\\mathcal{G}_1$ and $\\mathcal{G}_2$ respectively.\n"
   ]
  },
  {
   "cell_type": "code",
   "execution_count": 15,
   "id": "0c199c68-febb-4232-9a63-dba8c506b6c8",
   "metadata": {
    "tags": []
   },
   "outputs": [
    {
     "name": "stdout",
     "output_type": "stream",
     "text": [
      "Depth: 17\n",
      "Gate count: 107\n",
      "Nonlocal gate count: 96\n",
      "Cell evaluated\n"
     ]
    }
   ],
   "source": [
    "from qiskit.providers.fake_provider import FakeGuadalupeV2\n",
    "fake_backend = FakeGuadalupeV2() \n",
    "\n",
    "# Both perfect matchings for the inner ring of guadalupe device.\n",
    "# Hard coded for now since we are only using guadalupe and other devices have different topo.\n",
    "guadalupe_ring_1 = [[2,3],[5,8],[11,14],[13,12],[10,7],[4,1]]\n",
    "guadalupe_ring_2 = [[1,2],[3,5],[8,11],[14,13],[12,10],[7,4]]\n",
    "\n",
    "\n",
    "# Layout maps the qubits to the connections above.\n",
    "initial_layout = [2,3,5,8,11,14,13,12,10,7,4,1,0,6,9,15]\n",
    "initial_layout2 = [1,2,3,5,8,11,14,13,12,10,7,4,0,6,9,15]\n",
    "\n",
    "\n",
    "draw_circ = cryansatz(12,4,'101010101010')\n",
    "\n",
    "\n",
    "print(\"Depth:\", draw_circ.depth())\n",
    "print(\"Gate count:\", sum(draw_circ.count_ops().values()))\n",
    "print(\"Nonlocal gate count:\", draw_circ.num_nonlocal_gates())\n",
    "\n",
    "# display(draw_circ.draw(fold=5000))\n",
    "\n",
    "print(\"Cell evaluated\")\n",
    "\n"
   ]
  },
  {
   "cell_type": "markdown",
   "id": "785bb594-bd36-4f20-a54f-e2b19b76dc09",
   "metadata": {},
   "source": [
    "### Constructing our Hamiltonians\n",
    "\n",
    "Constructing $\\hat{\\mathcal{G}}_1$ and $\\hat{\\mathcal{G}}_2$ based on the perfect matchings above."
   ]
  },
  {
   "cell_type": "code",
   "execution_count": 16,
   "id": "4dac2bb5-f430-46d2-93d2-0c34a52277f9",
   "metadata": {
    "tags": []
   },
   "outputs": [
    {
     "name": "stdout",
     "output_type": "stream",
     "text": [
      "Preparing the Hamiltonians...\n",
      "Cell evaluated\n"
     ]
    }
   ],
   "source": [
    "gjkl2 = time.time()\n",
    "\n",
    "print(\"Preparing the Hamiltonians...\")\n",
    "\n",
    "ring1_hmin = []\n",
    "ring2_hmin = []\n",
    "\n",
    "\n",
    "ring1_obs = [] \n",
    "for conn in guadalupe_ring_1:\n",
    "    ring1_obs.append((\"XX\", conn, 1))\n",
    "    ring1_obs.append((\"YY\", conn, 1))\n",
    "    ring1_obs.append((\"ZZ\", conn, 1))\n",
    "    \n",
    "    \n",
    "ring2_obs = [] \n",
    "for conn in guadalupe_ring_2:\n",
    "    ring2_obs.append((\"XX\", conn, 1))\n",
    "    ring2_obs.append((\"YY\", conn, 1))\n",
    "    ring2_obs.append((\"ZZ\", conn, 1))\n",
    "    \n",
    "    \n",
    "# Pads to 16 qubits for running on ibmq_guadalupe\n",
    "ring1_obs = SparsePauliOp.from_sparse_list(ring1_obs,num_qubits = 16)\n",
    "ring2_obs = SparsePauliOp.from_sparse_list(ring2_obs,num_qubits = 16)\n",
    "\n",
    "\n",
    "print(\"Cell evaluated\")"
   ]
  },
  {
   "cell_type": "markdown",
   "id": "3ee2b282-60e2-4f3d-9970-13b648e6d2aa",
   "metadata": {
    "tags": []
   },
   "source": [
    "### Loading our saved data....\n",
    "\n",
    "Inside load_saved_dat is a list of runs that minimizes $\\langle \\hat{\\mathcal{G}} \\rangle$. Each run is a dictionary with the following keys:\n",
    "- `seed`: Integer that seeds the optimizer\n",
    "- `opt params`: Optimal parameters for our circuit\n",
    "- `cflist`: Cost function values after each optimizer iteration\n",
    "- `paramlist`: Theta values after each optimizer iteration\n",
    "\n",
    "Loading the optimal parameters into a noise-less backend will give a value close to -18."
   ]
  },
  {
   "cell_type": "code",
   "execution_count": 17,
   "id": "45a01751-bfe4-4016-8b9c-09dfce0f086e",
   "metadata": {
    "tags": []
   },
   "outputs": [
    {
     "name": "stdout",
     "output_type": "stream",
     "text": [
      "Number of parameters to run: 15\n"
     ]
    }
   ],
   "source": [
    "load_data = np.load(\"TrivH-cryansatz-12l4-notranspile-Rotosolvedat.npy\", allow_pickle = True)\n",
    "\n",
    "# Dictionary of seed:parameters\n",
    "opt_param_d = {} \n",
    "\n",
    "for runn in load_data:\n",
    "    opt_param_d[runn['seed']] = runn['opt params']\n",
    "    \n",
    "print(\"Number of parameters to run:\",  len(load_data))\n"
   ]
  },
  {
   "cell_type": "markdown",
   "id": "f24eef34-12ef-416f-97dd-cf92a0db8846",
   "metadata": {},
   "source": [
    "# Finding the scale factor for ibmq_guadalupe using Runtime\n",
    "\n",
    "Due to the highly stochastic nature of quantum experiments, multiple optimization runs to find the minimum of $\\langle \\hat{\\mathcal{G}} \\rangle$ are used to obtain the scale factor $\\mathcal{f}$.\n",
    "\n",
    "Each run produces a single scale factor value $\\mathcal{f}_i$, and $\\mathcal{\\vec{f}} = \\{ {\\mathcal{f}_1, ... , \\mathcal{f}_I} \\}$ after calculating the scale factor for all runs. Similarly, the multiple VQE runs optimizing the ground state energy of the Kagome Hamiltonian produce a list of $\\langle \\hat{H}_{\\textrm{kagome}} \\rangle _j$ values $\\{ \\langle \\hat{H}_{\\textrm{kagome}}  \\rangle _1 , ..., \\langle \\hat{H}_{\\textrm{kagome}}  \\rangle _J\\}$\n",
    "\n",
    "\n",
    "The outer product of these two lists will yield a matrix of approximated ground state energies for the Kagome Hamiltonian:\n",
    "\n",
    "\n",
    "\\begin{align*}\n",
    "E_{\\textrm{kagome}}^{ij} = \\mathcal{f}_i \\langle \\hat{H}_{\\textrm{kagome}}  \\rangle_j\n",
    "\\end{align*}\n",
    "\n",
    "\n",
    "\n",
    "The blocks of code below runs the saved parameters on `ibmq_guadalupe` to obtain $\\mathcal{\\vec{f}}$, and saves it to disk.\n",
    "\n",
    "\n"
   ]
  },
  {
   "cell_type": "code",
   "execution_count": 18,
   "id": "2fbc5b52-9421-4a1a-8c8a-5894e33301ef",
   "metadata": {
    "tags": []
   },
   "outputs": [
    {
     "name": "stdout",
     "output_type": "stream",
     "text": [
      "Loading runtime service.... Est wait: 10s\n",
      "Service loaded. Time taken: 229.53s\n"
     ]
    }
   ],
   "source": [
    "print(\"Loading runtime service.... Est wait: 10s\")\n",
    "ttg1 =time.time()\n",
    "service = QiskitRuntimeService(channel=\"ibm_quantum\",\n",
    "                               # instance='ibm-q-community/ibmquantumawards/open-science-22'\n",
    "                               # instance='ibm-q/open/main'\n",
    "                              ) \n",
    "\n",
    "runtime_backend = 'ibmq_guadalupe'\n",
    "print(\"Service loaded. Time taken: %.2fs\" %(time.time() - ttg1))\n"
   ]
  },
  {
   "cell_type": "markdown",
   "id": "d10e3479-88f3-4ac3-80c2-a90ca6c5193a",
   "metadata": {},
   "source": [
    "# Sending the jobs via a runtime session\n",
    "\n",
    "It is important to fix the options below during the session, as the same options need to be used later when using `ibmq_guadalupe` to find $\\langle \\hat{H}_{\\textrm{kagome}} \\rangle$.\n",
    "\n",
    "Here, we leverage Runtime's ability to send multiple jobs at once to be queued. The first loop is used to send the jobs to the backend. Once all the jobs has been sent, a second loop queries the results and saves them to a list. This saves some overhead as subsequent jobs can be sent without having to wait for earlier ones to finish. \n",
    "\n",
    "We have also set the total number of shots to the maximum to for our scale factor to capture the noise profile of `ibmq_guadalupe` as accurately as possible.\n"
   ]
  },
  {
   "cell_type": "code",
   "execution_count": 20,
   "id": "a164db8e-a1ea-4d1e-80df-cfd64c8e1a7a",
   "metadata": {
    "tags": []
   },
   "outputs": [
    {
     "name": "stdout",
     "output_type": "stream",
     "text": [
      ">>> Running circuits... \n",
      ">>> Stpt: 75970, Job1 ID: cgsq2qsqunt0rafs97fg, Status: JobStatus.QUEUED\n",
      ">>> Stpt: 27940, Job1 ID: cgsq2r2j96cnav4vf1j0, Status: JobStatus.QUEUED\n",
      ">>> Stpt: 87840, Job1 ID: cgsq2rkqunt0rafs991g, Status: JobStatus.QUEUED\n",
      ">>> Stpt: 73533, Job1 ID: cgsq2s02tle0vokd6vmg, Status: JobStatus.QUEUED\n",
      ">>> Stpt: 43508, Job1 ID: cgsq2skqunt0rafs9an0, Status: JobStatus.QUEUED\n",
      ">>> Stpt: 82037, Job1 ID: cgsq2tdc26uins2mp5h0, Status: JobStatus.QUEUED\n",
      ">>> Stpt: 47977, Job1 ID: cgsq2tkqunt0rafs9ci0, Status: JobStatus.QUEUED\n",
      ">>> Stpt: 72857, Job1 ID: cgsq2to2tle0vokd7320, Status: JobStatus.QUEUED\n",
      ">>> Stpt: 96697, Job1 ID: cgsq2ub7iuhj2v48ak90, Status: JobStatus.QUEUED\n",
      ">>> Stpt: 44508, Job1 ID: cgsq2uqj96cnav4vf9ig, Status: JobStatus.QUEUED\n",
      ">>> Stpt: 36766, Job1 ID: cgsq2vaj96cnav4vfa50, Status: JobStatus.QUEUED\n",
      ">>> Stpt: 25872, Job1 ID: cgsq30ij96cnav4vfcgg, Status: JobStatus.QUEUED\n",
      ">>> Stpt: 41836, Job1 ID: cgsq30tevgbv2i5sq6lg, Status: JobStatus.QUEUED\n",
      ">>> Stpt: 39185, Job1 ID: cgsq3182tle0vokd78lg, Status: JobStatus.QUEUED\n",
      ">>> Stpt: 85095, Job1 ID: cgsq31ij96cnav4vff4g, Status: JobStatus.QUEUED\n",
      "\n",
      ">>> All jobs sent for ring1! Time taken: 29.89528775215149s. Sending ring2 jobs....\n",
      "\n",
      ">>> Running circuits... \n",
      ">>> Stpt: 75970, Job2 ID: cgsq3237iuhj2v48aq70, Status: JobStatus.QUEUED\n",
      ">>> Stpt: 27940, Job2 ID: cgsq32j7iuhj2v48aqpg, Status: JobStatus.QUEUED\n",
      ">>> Stpt: 87840, Job2 ID: cgsq32qj96cnav4vfhfg, Status: JobStatus.QUEUED\n",
      ">>> Stpt: 73533, Job2 ID: cgsq33aj96cnav4vfi1g, Status: JobStatus.QUEUED\n",
      ">>> Stpt: 43508, Job2 ID: cgsq33g2tle0vokd7crg, Status: JobStatus.QUEUED\n",
      ">>> Stpt: 82037, Job2 ID: cgsq344qunt0rafs9n30, Status: JobStatus.QUEUED\n",
      ">>> Stpt: 47977, Job2 ID: cgsq34levgbv2i5sqd20, Status: JobStatus.QUEUED\n",
      ">>> Stpt: 72857, Job2 ID: cgsq34tevgbv2i5sqdtg, Status: JobStatus.QUEUED\n",
      ">>> Stpt: 96697, Job2 ID: cgsq35b7iuhj2v48avag, Status: JobStatus.QUEUED\n",
      ">>> Stpt: 44508, Job2 ID: cgsq35o2tle0vokd7ge0, Status: JobStatus.QUEUED\n",
      ">>> Stpt: 36766, Job2 ID: cgsq362j96cnav4vfneg, Status: JobStatus.QUEUED\n",
      ">>> Stpt: 25872, Job2 ID: cgsq36g2tle0vokd7htg, Status: JobStatus.QUEUED\n",
      ">>> Stpt: 41836, Job2 ID: cgsq36qj96cnav4vfovg, Status: JobStatus.QUEUED\n",
      ">>> Stpt: 39185, Job2 ID: cgsq37b7iuhj2v48b1s0, Status: JobStatus.QUEUED\n",
      ">>> Stpt: 85095, Job2 ID: cgsq37g2tle0vokd7jk0, Status: JobStatus.QUEUED\n",
      "\n",
      ">>> All jobs sent for ring2! Time taken: 25.80792808532715s. Awaiting results....\n",
      "Session IDs: ('cgsq2qsqunt0rafs97fg', 'cgsq3237iuhj2v48aq70')\n",
      "\n"
     ]
    }
   ],
   "source": [
    "options = Options()                   # https://qiskit.org/documentation/partners/qiskit_ibm_runtime/stubs/qiskit_ibm_runtime.options.Options.html\n",
    "options.optimization_level = 3        # 3 is Default, https://qiskit.org/documentation/partners/qiskit_ibm_runtime/how_to/error-suppression.html\n",
    "options.resilience_level = 2          # 0: none, 1: readout errors (TREX), 2: ZNE, 3: PEC\n",
    "options.max_execution_time = None\n",
    "options.execution.shots = 100000      # 4000 is default\n",
    "options.execution.init_qubits = True  # Reset Qubits after each shot\n",
    "options.transpilation.skip_transpilation = True # Don't transpile using qiskit_ibm_runtime.Options... EVER\n",
    "\n",
    "gjkl1 = time.time()\n",
    "\n",
    "    \n",
    "with Session(service=service, backend=runtime_backend) as session:\n",
    "    \n",
    "    rt_estimator = RuntimeEstimator(session=session, options=options)\n",
    "\n",
    "    job1_list = []           # For saving jobs sent to measure <G1>\n",
    "    job1_id_list = []        # For saving jobs IDs sent to measure <G1>\n",
    "    seedlist1 = []\n",
    "    \n",
    "    print(f\">>> Running circuits... \")\n",
    "    \n",
    "    for seed, params in opt_param_d.items():\n",
    "        \n",
    "        mycirc = cryansatz(12,4,'101010101010')\n",
    "        # Bind first before transpile, because optimization for these runs was done on non-transpiled circuit.\n",
    "        statecirc = mycirc.bind_parameters(params) \n",
    "\n",
    "\n",
    "        transpiled_circ1 = transpile(statecirc,                   # Transpiled circuit to map qubits to G1\n",
    "                            backend = fake_backend,\n",
    "                            optimization_level = 3,\n",
    "                            initial_layout = initial_layout,\n",
    "                           )\n",
    "\n",
    "\n",
    "        job1 = rt_estimator.run([transpiled_circ1], [ring1_obs])  # Circuit and obs for the 1st perfect matching\n",
    "        job1_list.append(job1)\n",
    "        job1_id_list.append(job1.job_id())\n",
    "\n",
    "        sess1_id = session.session_id\n",
    "        seedlist1.append(seed)\n",
    "        print(f\">>> Stpt: {seed}, Job1 ID: {job1.job_id()}, Status: {job1.status()}\")\n",
    "        \n",
    "        \n",
    "    session.close()\n",
    "    \n",
    "print()\n",
    "print(f\">>> All jobs sent for ring1! Time taken: {(time.time() - gjkl1)}s. Sending ring2 jobs....\")\n",
    "print()\n",
    "\n",
    "gjkl1 = time.time()\n",
    "with Session(service=service, backend=runtime_backend) as session:\n",
    "    \n",
    "    rt_estimator = RuntimeEstimator(session=session, options=options)\n",
    "    \n",
    "    job2_list = []           # For saving jobs sent to measure <G2>\n",
    "    job2_id_list = []        # For saving jobs IDs sent to measure <G2>\n",
    "    seedlist2 = []\n",
    "    \n",
    "    print(f\">>> Running circuits... \")\n",
    "    \n",
    "    for seed, params in opt_param_d.items():\n",
    "        \n",
    "        mycirc = cryansatz(12,4,'101010101010')\n",
    "        # Bind first before transpile, because optimization for these runs was done on non-transpiled circuit.\n",
    "        statecirc = mycirc.bind_parameters(params) \n",
    "\n",
    "\n",
    "        transpiled_circ2 = transpile(statecirc,                   # Transpiled circuit to map qubits to G2\n",
    "                            backend = fake_backend,\n",
    "                            optimization_level = 3,\n",
    "                            initial_layout = initial_layout2, \n",
    "                           )\n",
    "\n",
    "\n",
    "        job2 = rt_estimator.run([transpiled_circ2], [ring2_obs])  # Circuit and obs for 2nd perfect matching\n",
    "        job2_list.append(job2)\n",
    "        job2_id_list.append(job2.job_id())\n",
    "        \n",
    "        sess2_id = session.session_id\n",
    "        seedlist2.append(seed)\n",
    "        print(f\">>> Stpt: {seed}, Job2 ID: {job2.job_id()}, Status: {job2.status()}\")\n",
    "    session.close()\n",
    "    \n",
    "    \n",
    "print()\n",
    "print(f\">>> All jobs sent for ring2! Time taken: {(time.time() - gjkl1)}s. Awaiting results....\")\n",
    "print(f\"Session IDs: {sess1_id, sess2_id}\")\n",
    "print()\n",
    "\n",
    "\n",
    "\n"
   ]
  },
  {
   "cell_type": "markdown",
   "id": "f388a045-fe0b-4c97-afea-7ca0fa5505a5",
   "metadata": {
    "tags": []
   },
   "source": [
    "### This part here assumes all jobs were sent and ran successfully\n",
    "\n",
    "The jobs are sent in the order of where they are in the saved file, and are retrieved chronologically when querying `service.jobs`, so manually keeping track of them is not necessary, although still possible based on the seedlist saved when running the cell above. \n",
    "\n",
    "However, this allows for jobs to be retrieved that were not run during this session by providing the session_id."
   ]
  },
  {
   "cell_type": "code",
   "execution_count": null,
   "id": "89b707ed-ed17-4c84-ab53-fce5f9547ba4",
   "metadata": {
    "tags": []
   },
   "outputs": [],
   "source": [
    "session_1_id_to_query = sess1_id\n",
    "session_2_id_to_query = sess2_id\n",
    "\n",
    "# session_1_id_to_query = \"cgsq2qsqunt0rafs97fg\"                 # If we want to load existing session IDs\n",
    "# session_2_id_to_query = \"cgsq3237iuhj2v48aq70\"                 # If we want to load existing session IDs\n",
    "\n",
    "print(\"Loading job services...\")\n",
    "job_1_list = service.jobs(limit=None, session_id=session_1_id_to_query ,descending=True)\n",
    "job_2_list = service.jobs(limit=None, session_id=session_2_id_to_query ,descending=True)\n",
    "\n",
    "njobs = len(job1_list)\n",
    "\n",
    "print(\"Retrieving job results...\")\n",
    "tkfg1 = time.time()\n",
    "\n",
    "hbknd1_list = []         # For saving measured <G1> values\n",
    "hbknd2_list = []         # For saving measured <G2> values\n",
    "\n",
    "for idx in range(njobs):\n",
    "    \n",
    "    # Print statuses first in case job is not ready to pull the result.\n",
    "    print(f\"Job1 ID: {job_1_list[idx].job_id()}, Status: {job_1_list[idx].status()},\",\n",
    "          f\"Job2 ID: {job_2_list[idx].job_id()}, Status: {job_2_list[idx].status()}\"\n",
    "         )\n",
    "    \n",
    "    ham_min_hardware1 = job_1_list[idx].result().values[0]     # Measured <G1> values\n",
    "    ham_min_hardware2 = job_2_list[idx].result().values[0]     # Measured <G2> values\n",
    "\n",
    "    hbknd1_list.append(ham_min_hardware1)\n",
    "    hbknd2_list.append(ham_min_hardware2)\n",
    "\n",
    "\n",
    "print(f\">>> Exp values (backend): {hbknd1_list, hbknd2_list}, Time taken: {(time.time() - tkfg1):<5.3}s\")"
   ]
  },
  {
   "cell_type": "code",
   "execution_count": 82,
   "id": "5da5fef2-2f36-4ec4-a8ef-7c42b7423002",
   "metadata": {
    "tags": []
   },
   "outputs": [],
   "source": [
    "savedict = dict({})\n",
    "savedict[\"shots\"] = options.execution.shots\n",
    "savedict[\"hbknd1\"] = hbknd1_list\n",
    "savedict[\"hbknd2\"] = hbknd2_list\n",
    "savedict[\"fval1\"] = -18/np.array(hbknd1_list)                     # f-value from <G1>_noiseless/<G1>_hardware\n",
    "savedict[\"fval2\"] = -18/np.array(hbknd2_list)                     # f-value from <G2>_noiseless/<G2>_hardware\n",
    "savedict[\"meanf\"] = (savedict[\"fval1\"] + savedict[\"fval2\"])/2     # f-value of run is the average of two perfect matchings\n",
    "savedict[\"sessid\"] = [session_1_id_to_query, session_2_id_to_query]\n",
    "savedict[\"stptlist\"] = seedlist\n",
    "\n",
    "\n",
    "filename = \"ScaleFactorData-Guadalupe-\"+str(options.execution.shots)+\".npy\"\n",
    "np.save(filename, savedict)\n",
    "print(\"Data saved\")\n"
   ]
  }
 ],
 "metadata": {
  "kernelspec": {
   "display_name": "Python 3 (ipykernel)",
   "language": "python",
   "name": "python3"
  },
  "language_info": {
   "codemirror_mode": {
    "name": "ipython",
    "version": 3
   },
   "file_extension": ".py",
   "mimetype": "text/x-python",
   "name": "python",
   "nbconvert_exporter": "python",
   "pygments_lexer": "ipython3",
   "version": "3.10.6"
  }
 },
 "nbformat": 4,
 "nbformat_minor": 5
}
